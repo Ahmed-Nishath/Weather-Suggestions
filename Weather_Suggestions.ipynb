{
  "nbformat": 4,
  "nbformat_minor": 0,
  "metadata": {
    "colab": {
      "provenance": []
    },
    "kernelspec": {
      "name": "python3",
      "display_name": "Python 3"
    },
    "language_info": {
      "name": "python"
    }
  },
  "cells": [
    {
      "cell_type": "code",
      "source": [
        "!pip install requests\n",
        "!pip install groq"
      ],
      "metadata": {
        "collapsed": true,
        "colab": {
          "base_uri": "https://localhost:8080/"
        },
        "id": "17POdfGea_TH",
        "outputId": "58a761a7-1369-4bf2-9bf1-529ea2d233b1"
      },
      "execution_count": 94,
      "outputs": [
        {
          "output_type": "stream",
          "name": "stdout",
          "text": [
            "Requirement already satisfied: requests in /usr/local/lib/python3.10/dist-packages (2.32.3)\n",
            "Requirement already satisfied: charset-normalizer<4,>=2 in /usr/local/lib/python3.10/dist-packages (from requests) (3.4.0)\n",
            "Requirement already satisfied: idna<4,>=2.5 in /usr/local/lib/python3.10/dist-packages (from requests) (3.10)\n",
            "Requirement already satisfied: urllib3<3,>=1.21.1 in /usr/local/lib/python3.10/dist-packages (from requests) (2.2.3)\n",
            "Requirement already satisfied: certifi>=2017.4.17 in /usr/local/lib/python3.10/dist-packages (from requests) (2024.12.14)\n",
            "Requirement already satisfied: groq in /usr/local/lib/python3.10/dist-packages (0.13.1)\n",
            "Requirement already satisfied: anyio<5,>=3.5.0 in /usr/local/lib/python3.10/dist-packages (from groq) (3.7.1)\n",
            "Requirement already satisfied: distro<2,>=1.7.0 in /usr/local/lib/python3.10/dist-packages (from groq) (1.9.0)\n",
            "Requirement already satisfied: httpx<1,>=0.23.0 in /usr/local/lib/python3.10/dist-packages (from groq) (0.28.1)\n",
            "Requirement already satisfied: pydantic<3,>=1.9.0 in /usr/local/lib/python3.10/dist-packages (from groq) (2.10.3)\n",
            "Requirement already satisfied: sniffio in /usr/local/lib/python3.10/dist-packages (from groq) (1.3.1)\n",
            "Requirement already satisfied: typing-extensions<5,>=4.10 in /usr/local/lib/python3.10/dist-packages (from groq) (4.12.2)\n",
            "Requirement already satisfied: idna>=2.8 in /usr/local/lib/python3.10/dist-packages (from anyio<5,>=3.5.0->groq) (3.10)\n",
            "Requirement already satisfied: exceptiongroup in /usr/local/lib/python3.10/dist-packages (from anyio<5,>=3.5.0->groq) (1.2.2)\n",
            "Requirement already satisfied: certifi in /usr/local/lib/python3.10/dist-packages (from httpx<1,>=0.23.0->groq) (2024.12.14)\n",
            "Requirement already satisfied: httpcore==1.* in /usr/local/lib/python3.10/dist-packages (from httpx<1,>=0.23.0->groq) (1.0.7)\n",
            "Requirement already satisfied: h11<0.15,>=0.13 in /usr/local/lib/python3.10/dist-packages (from httpcore==1.*->httpx<1,>=0.23.0->groq) (0.14.0)\n",
            "Requirement already satisfied: annotated-types>=0.6.0 in /usr/local/lib/python3.10/dist-packages (from pydantic<3,>=1.9.0->groq) (0.7.0)\n",
            "Requirement already satisfied: pydantic-core==2.27.1 in /usr/local/lib/python3.10/dist-packages (from pydantic<3,>=1.9.0->groq) (2.27.1)\n"
          ]
        }
      ]
    },
    {
      "cell_type": "code",
      "source": [
        "from IPython.display import Markdown\n",
        "from groq import Groq\n",
        "import requests\n",
        "import datetime\n",
        "import json\n",
        "import os"
      ],
      "metadata": {
        "collapsed": true,
        "id": "aY7WlzWCUA8j"
      },
      "execution_count": 95,
      "outputs": []
    },
    {
      "cell_type": "code",
      "source": [
        "grouq_api_key=\"XXXXXXXXXXXXXXXXXX\"\n",
        "\n",
        "weather_api_key = \"XXXXXXXXXXXXXXXXXX\"\n",
        "base_url = \"http://api.openweathermap.org/\""
      ],
      "metadata": {
        "id": "CMbNRnHyL6KH"
      },
      "execution_count": 96,
      "outputs": []
    },
    {
      "cell_type": "code",
      "execution_count": 97,
      "metadata": {
        "id": "SVlGeWQDTWnn"
      },
      "outputs": [],
      "source": [
        "city_name = \"Colombo\"\n",
        "country_code = \"+94\"\n",
        "response_limit = 1\n",
        "\n",
        "url_get_coordinates = f\"{base_url}geo/1.0/direct?q={city_name},{country_code}&limit={response_limit}&appid={weather_api_key}\"\n",
        "\n",
        "forecast_response = requests.get(url_get_coordinates)"
      ]
    },
    {
      "cell_type": "code",
      "source": [
        "forecast_data = forecast_response.text\n",
        "forecast_parsed_data = json.loads(forecast_data)\n",
        "\n",
        "latitude = forecast_parsed_data[0]['lat']\n",
        "longitude = forecast_parsed_data[0]['lon']"
      ],
      "metadata": {
        "id": "HjL5ZJqdN7Ri"
      },
      "execution_count": 98,
      "outputs": []
    },
    {
      "cell_type": "code",
      "source": [
        "#Get Weather Forecast\n",
        "url_weather_data = f\"{base_url}data/2.5/weather?lat={latitude}&lon={longitude}&appid={weather_api_key}\"\n",
        "response = requests.get(url_weather_data)"
      ],
      "metadata": {
        "id": "wqmVhfOQL2t_"
      },
      "execution_count": 99,
      "outputs": []
    },
    {
      "cell_type": "code",
      "source": [
        "# Convert timestamp to date\n",
        "date = datetime.datetime.utcfromtimestamp(json.loads(response.text)['dt']).strftime('%Y-%m-%d')"
      ],
      "metadata": {
        "id": "8dI31AjpEFlW"
      },
      "execution_count": 100,
      "outputs": []
    },
    {
      "cell_type": "code",
      "source": [
        "# Get AQI\n",
        "url_air_quality = f\"http://api.openweathermap.org/data/2.5/air_pollution?lat={latitude}&lon={longitude}&appid={weather_api_key}\"\n",
        "air_quality = requests.get(url_air_quality)\n",
        "\n",
        "air_quality_data = air_quality.text\n",
        "air_quality_parsed_data = json.loads(air_quality_data)\n",
        "\n",
        "# Extract air quality info\n",
        "air_quality_info = {\n",
        "    \"AQI\": air_quality_parsed_data['list'][0]['main']['aqi'],\n",
        "    \"Components\": air_quality_parsed_data['list'][0]['components'],\n",
        "    \"Timestamp\": air_quality_parsed_data['list'][0]['dt']\n",
        "}"
      ],
      "metadata": {
        "id": "TRnYdozR5Dc_"
      },
      "execution_count": 101,
      "outputs": []
    },
    {
      "cell_type": "code",
      "source": [
        "# Get UVI\n",
        "url_uv_index = f\"http://api.openweathermap.org/data/2.5/uvi?lat={latitude}&lon={longitude}&appid={weather_api_key}\"\n",
        "uv_index = requests.get(url_uv_index)\n",
        "\n",
        "uv_index_data = uv_index.text\n",
        "uv_index_parsed_data = json.loads(uv_index_data)\n",
        "\n",
        "uv_index_info = uv_index_parsed_data['value']"
      ],
      "metadata": {
        "id": "O8fukOyn7Ypq"
      },
      "execution_count": 102,
      "outputs": []
    },
    {
      "cell_type": "code",
      "source": [
        "model = Groq(api_key=grouq_api_key)"
      ],
      "metadata": {
        "id": "5vZz0uPGRQRI"
      },
      "execution_count": 103,
      "outputs": []
    },
    {
      "cell_type": "code",
      "source": [
        "prompt = f\"\"\"You are a weather assistant. Your task is to generate a concise weather report based on the provided data. The report must strictly adhere to the following format:\n",
        "Weather Report for [City Name] Today({date}) \\n\n",
        "  Temperature: [Temperature in Celsius]\\n\n",
        "  Humidity: [Humidity Percentage]\\n\n",
        "  Wind Speed: [Wind Speed in km/h]\\n\n",
        "  Air Quality Index: [AQI Category]\\n\n",
        "  UV Index: [UV Index Value]\\n\n",
        "\n",
        "Recommendations:\\n\n",
        "  [Recommendation 1]\\n\n",
        "  [Recommendation 2]\\n\n",
        "  [Recommendation 3]\\n\n",
        "  More recommendations can be added based on the provided data.\n",
        "\n",
        "Important Instructions:\n",
        "  Do not deviate from the format.\n",
        "  Do not add extra sentences like Here is the weather report based on the provided data:\n",
        "  Output should be only consist of the report\n",
        "  Replace placeholders like [City Name], [Temperature in Celsius], etc., with the corresponding data.\n",
        "  Ensure that recommendations are practical and based on the provided weather conditions.\n",
        "  Use proper formatting, tabs, alignments and bolding if necessary to highlight important factors\n",
        "\n",
        "Here is the data:\n",
        "Weather Forecast: {response.text}\n",
        "Air Quality Index: {air_quality_info}\n",
        "UVI: {uv_index_info}\n",
        "\"\"\"\n"
      ],
      "metadata": {
        "id": "4ezMEl_s46-R"
      },
      "execution_count": 104,
      "outputs": []
    },
    {
      "cell_type": "code",
      "source": [
        "chat_completion = model.chat.completions.create(\n",
        "    messages=[\n",
        "        {\n",
        "            \"role\": \"user\",\n",
        "            \"content\": prompt,\n",
        "        }\n",
        "    ],\n",
        "    model=\"llama3-8b-8192\",\n",
        "    stream=False,\n",
        ")"
      ],
      "metadata": {
        "id": "j-dYVU-HRSNc"
      },
      "execution_count": 105,
      "outputs": []
    },
    {
      "cell_type": "code",
      "source": [
        "display(Markdown(chat_completion.choices[0].message.content))"
      ],
      "metadata": {
        "colab": {
          "base_uri": "https://localhost:8080/",
          "height": 303
        },
        "id": "FJBAzfrmbnUM",
        "outputId": "05beb992-57b9-4a99-b24b-ec6044ec5d69"
      },
      "execution_count": 106,
      "outputs": [
        {
          "output_type": "display_data",
          "data": {
            "text/plain": [
              "<IPython.core.display.Markdown object>"
            ],
            "text/markdown": "**Weather Report for Colombo Today (2024-12-23)**\n\n  **Temperature:** 31.14°C\n\n  **Humidity:** 65%\n\n  **Wind Speed:** 4.11 km/h\n\n  **Air Quality Index:** **Good** (AQI Category: 3)\n\n  **UV Index:** **High** (9.48)\n\n**Recommendations:**\n\n  * Wear light and breathable clothing to combat the warm weather.\n  * Take necessary precautions when stepping out, as the UV index is high.\n  * Consider using a sun umbrella or hat to protect yourself from the sun.\n  * Keep yourself hydrated by drinking plenty of water throughout the day.\n\nNote: Since the wind speed is relatively low, there's no need to worry about strong gusts or turbulence. However, it's still a good idea to take necessary precautions when stepping out."
          },
          "metadata": {}
        }
      ]
    }
  ]
}